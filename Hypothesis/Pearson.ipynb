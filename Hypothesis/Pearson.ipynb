{
 "cells": [
  {
   "cell_type": "code",
   "execution_count": 1,
   "id": "69397fa9",
   "metadata": {},
   "outputs": [
    {
     "name": "stdout",
     "output_type": "stream",
     "text": [
      "Enter stock ticker: VALE3.SA\n",
      "Enter the other stock ticker: PETR4.SA\n",
      "Start date: 2020-01-01\n",
      "End date: 2023-01-01\n",
      "\n",
      "Correlation Coefficient: 0.4698329731857063\n",
      "\n",
      "P-value: 3.5620645184701e-42\n",
      "0.10 : Statistically significant\n",
      "0.05 : Statistically significant\n",
      "0.01 : Statistically significant\n"
     ]
    }
   ],
   "source": [
    "import pandas as pd\n",
    "import yfinance as yf\n",
    "from scipy.stats import pearsonr\n",
    "\n",
    "def historical_data(ticker_1, ticker_2, start_date, end_date):\n",
    "    # Download historical data for the given ticker\n",
    "    stock_data_1 = yf.download(ticker_1, start=start_date, end=end_date, progress=False)\n",
    "    stock_data_2 = yf.download(ticker_2, start=start_date, end=end_date, progress=False)\n",
    "\n",
    "    # Create a pct change column\n",
    "    stock_data_1 = stock_data_1['Adj Close']\n",
    "    stock_data_2 = stock_data_2['Adj Close']\n",
    "\n",
    "    # Combine the data into a single DataFrame\n",
    "    df = pd.concat([stock_data_1, stock_data_2], axis=1)\n",
    "    df.columns = [ticker_1, ticker_2]\n",
    "\n",
    "    # Remove any rows with missing data\n",
    "    df.dropna(inplace=True)\n",
    "\n",
    "    # Calculate the Pearson correlation coefficient and p-value\n",
    "    corr_coef, p_value = pearsonr(df[ticker_1], df[ticker_2])\n",
    "\n",
    "    # Print the correlation coefficient\n",
    "    print(\"\\nCorrelation Coefficient:\", corr_coef)\n",
    "\n",
    "    # Calculate and print the p-values for different significance levels\n",
    "    p_value_0_10 = 1 - corr_coef\n",
    "    p_value_0_05 = 1.96 * (1 - corr_coef)\n",
    "    p_value_0_01 = 2.58 * (1 - corr_coef)\n",
    "\n",
    "    print(\"\\nP-value:\",p_value)\n",
    "\n",
    "    \n",
    "    if p_value>0.1:\n",
    "        print('0.10 : Not statistically significant')\n",
    "    else:\n",
    "        print('0.10 : Statistically significant')\n",
    "        \n",
    "    if p_value>0.05:\n",
    "        print('0.05 : Not statistically significant')\n",
    "    else:\n",
    "        print('0.05 : Statistically significant')\n",
    "        \n",
    "    if p_value>0.01:\n",
    "        print('0.01 : Not statistically significant')\n",
    "    else:\n",
    "        print('0.01 : Statistically significant')\n",
    "\n",
    "    # Return the historical data\n",
    "    return corr_coef\n",
    "\n",
    "# Example usage\n",
    "ticker_1 = input(\"Enter stock ticker: \")\n",
    "ticker_2 = input(\"Enter the other stock ticker: \")\n",
    "start_date = input(\"Start date: \")\n",
    "end_date = input(\"End date: \")\n",
    "\n",
    "data = historical_data(ticker_1, ticker_2, start_date, end_date)"
   ]
  },
  {
   "cell_type": "code",
   "execution_count": null,
   "id": "f2cf3595",
   "metadata": {},
   "outputs": [],
   "source": [
    "()"
   ]
  }
 ],
 "metadata": {
  "kernelspec": {
   "display_name": "Python 3 (ipykernel)",
   "language": "python",
   "name": "python3"
  },
  "language_info": {
   "codemirror_mode": {
    "name": "ipython",
    "version": 3
   },
   "file_extension": ".py",
   "mimetype": "text/x-python",
   "name": "python",
   "nbconvert_exporter": "python",
   "pygments_lexer": "ipython3",
   "version": "3.9.7"
  }
 },
 "nbformat": 4,
 "nbformat_minor": 5
}
